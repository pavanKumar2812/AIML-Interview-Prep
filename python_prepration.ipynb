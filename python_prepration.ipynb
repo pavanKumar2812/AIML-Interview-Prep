{
 "cells": [
  {
   "cell_type": "code",
   "execution_count": 1,
   "metadata": {},
   "outputs": [
    {
     "name": "stdout",
     "output_type": "stream",
     "text": [
      "[1]\n",
      "[1, 2]\n",
      "[3]\n",
      "[1, 2, 4]\n"
     ]
    }
   ],
   "source": [
    "# 1\n",
    "def func(val, lst=[]):\n",
    "    lst.append(val)\n",
    "    return lst\n",
    "\n",
    "print(func(1))\n",
    "print(func(2))\n",
    "print(func(3, []))\n",
    "print(func(4))"
   ]
  },
  {
   "cell_type": "markdown",
   "metadata": {},
   "source": [
    "What is the time complexity of accessing an element in a Python dictonary by key?\n",
    "\n",
    "O(1) on average, thanks to hash tables"
   ]
  },
  {
   "cell_type": "code",
   "execution_count": 3,
   "metadata": {},
   "outputs": [
    {
     "name": "stdout",
     "output_type": "stream",
     "text": [
      "[5 4 3 2 1]\n"
     ]
    }
   ],
   "source": [
    "# 2\n",
    "import numpy as np \n",
    "arr = np.array([1, 2, 3, 4, 5])\n",
    "print(arr[::-1]) # Reverse the array"
   ]
  },
  {
   "cell_type": "code",
   "execution_count": 4,
   "metadata": {},
   "outputs": [
    {
     "name": "stdout",
     "output_type": "stream",
     "text": [
      "0    2.5\n",
      "1    3.5\n",
      "2    4.5\n",
      "dtype: float64\n"
     ]
    }
   ],
   "source": [
    "# 3\n",
    "import pandas as pd \n",
    "df = pd.DataFrame({\"A\": [1, 2, 3],\n",
    "                   \"B\": [4, 5, 6]})\n",
    "print(df.mean(axis=1))\n",
    "# What will be the output of the following Pandas Code?\n",
    "## Row-wisw mean"
   ]
  },
  {
   "cell_type": "code",
   "execution_count": 5,
   "metadata": {},
   "outputs": [
    {
     "name": "stdout",
     "output_type": "stream",
     "text": [
      "['18', '35']\n"
     ]
    }
   ],
   "source": [
    "# 4\n",
    "# What is the output of the following regex operation?\n",
    "import re\n",
    "pattern=r\"\\d+\"\n",
    "text=\"My age is 18 and my friend age is 35\"\n",
    "matches = re.findall(pattern, text)\n",
    "print(matches) # ['28', '35']"
   ]
  },
  {
   "cell_type": "code",
   "execution_count": 22,
   "metadata": {},
   "outputs": [
    {
     "name": "stdout",
     "output_type": "stream",
     "text": [
      "75000.0\n"
     ]
    },
    {
     "data": {
      "text/plain": [
       "(None, np.float64(75000.0))"
      ]
     },
     "execution_count": 22,
     "metadata": {},
     "output_type": "execute_result"
    }
   ],
   "source": [
    "### 5 \n",
    "# Data Manipulation with pandas\n",
    "\n",
    "import pandas as pd\n",
    "data={\"Name\": [\"Pavan\", \"Manoj\", \"Balaji\", \"Appu\", \"Venkey\"],\n",
    "      \"Salary\": [50000, 60000, 75000, 40000, 90000],\n",
    "      \"Department\": ['HR', 'IT', 'IT', 'HR', 'IT']}\n",
    "df = pd.DataFrame(data)\n",
    "\n",
    "# Find the avg salary of employees in the \"IT\" department?\n",
    "\n",
    "# Method 1\n",
    "it_salary=df[df[\"Department\"] == \"IT\"][\"Salary\"]\n",
    "avg_it_salary = it_salary.mean()\n",
    "\n",
    "# Method 2: Using groupby()\n",
    "avg_it_salary_groupby = df.groupby(\"Department\")[\"Salary\"].mean()[\"IT\"]\n",
    "\n",
    "print(avg_it_salary), avg_it_salary_groupby"
   ]
  },
  {
   "cell_type": "code",
   "execution_count": 53,
   "metadata": {},
   "outputs": [
    {
     "name": "stdout",
     "output_type": "stream",
     "text": [
      "88\n",
      "45\n",
      "None\n"
     ]
    }
   ],
   "source": [
    "### 6  \n",
    "def find_second_largest_num(lst:list):\n",
    "    if len(lst) < 2:\n",
    "        return None\n",
    "    unique_num = sorted(list(set(lst))) # Remove duplicates and sort\n",
    "    if len(unique_num) == 1:\n",
    "        return None\n",
    "    return unique_num[-2]\n",
    "print(find_second_largest_num([1,2,3,4,5,88,44,31,94,8,4,78,24]))\n",
    "print(find_second_largest_num([10, 20, 4, 45, 99]))\n",
    "print(find_second_largest_num([10, 10, 10]))"
   ]
  },
  {
   "cell_type": "code",
   "execution_count": 55,
   "metadata": {},
   "outputs": [
    {
     "name": "stdout",
     "output_type": "stream",
     "text": [
      "88\n",
      "45\n",
      "None\n",
      "2\n",
      "1\n",
      "None\n"
     ]
    }
   ],
   "source": [
    "# Suppose we don't need to use pre build functions\n",
    "def find_2_largest_num(lst:list):\n",
    "    if len(lst) < 2:\n",
    "        return None\n",
    "    \n",
    "    # Find the largest number\n",
    "    largest = lst[0]\n",
    "    for num in lst:\n",
    "        if num>largest:\n",
    "            largest=num\n",
    "\n",
    "    # Find 2nd largest number\n",
    "    second_largest = None\n",
    "    for num in lst:\n",
    "        if num != largest:\n",
    "            if second_largest is None or num > second_largest:\n",
    "                second_largest=num\n",
    "    return second_largest\n",
    "\n",
    "print(find_2_largest_num([1, 2, 3, 4, 5, 88, 44, 31, 94, 8, 4, 78, 24]))  # Output: 88\n",
    "print(find_2_largest_num([10, 20, 4, 45, 99]))  # Output: 45\n",
    "print(find_2_largest_num([10, 10, 10]))  # Output: None\n",
    "print(find_2_largest_num([1, 1, 2, 2, 3]))  # Output: 2\n",
    "print(find_2_largest_num([1, 2]))  # Output: 1\n",
    "print(find_2_largest_num([1])) #Output: None"
   ]
  },
  {
   "cell_type": "code",
   "execution_count": 56,
   "metadata": {},
   "outputs": [
    {
     "name": "stdout",
     "output_type": "stream",
     "text": [
      "7 3\n",
      "7 5\n"
     ]
    }
   ],
   "source": [
    "### 7\n",
    "x=10\n",
    "y=5\n",
    "def test():\n",
    "    global x\n",
    "    y = 3\n",
    "    x = 7\n",
    "    print(x, y)\n",
    "test()\n",
    "print(x, y)"
   ]
  },
  {
   "cell_type": "code",
   "execution_count": 58,
   "metadata": {},
   "outputs": [
    {
     "name": "stdout",
     "output_type": "stream",
     "text": [
      "[1]\n",
      "[3, 4, 2]\n",
      "[1, 3]\n"
     ]
    }
   ],
   "source": [
    "### 8\n",
    "def foo(x, y=[]):\n",
    "    y.append(x)\n",
    "    return y\n",
    "\n",
    "print(foo(1))\n",
    "print(foo(2, [3, 4]))\n",
    "print(foo(3))"
   ]
  },
  {
   "cell_type": "code",
   "execution_count": 59,
   "metadata": {},
   "outputs": [
    {
     "name": "stdout",
     "output_type": "stream",
     "text": [
      "6\n",
      "5\n"
     ]
    }
   ],
   "source": [
    "### 9\n",
    "x = 5\n",
    "def test(x):\n",
    "    x = x + 1\n",
    "    return x\n",
    "print(test(x))\n",
    "print(x)"
   ]
  },
  {
   "cell_type": "code",
   "execution_count": 60,
   "metadata": {},
   "outputs": [
    {
     "name": "stdout",
     "output_type": "stream",
     "text": [
      "5\n",
      "6\n"
     ]
    }
   ],
   "source": [
    "### 10\n",
    "def f(x, y=3):\n",
    "    return x + y\n",
    "\n",
    "print(f(2))\n",
    "print(f(2, 4))\n"
   ]
  },
  {
   "cell_type": "code",
   "execution_count": 61,
   "metadata": {},
   "outputs": [
    {
     "data": {
      "text/plain": [
       "'\\nWhat is the purpose of the __init__ method in Python classes?\\n\\nIt is used to create new instance of the class\\n\\nThe __init__ method is the initializer(constructor) in Python. It is called when a new instance of the\\nclass is created. Its primary purpose is to initialize the instance attributes when an object is\\ninstantiated.\\n'"
      ]
     },
     "execution_count": 61,
     "metadata": {},
     "output_type": "execute_result"
    }
   ],
   "source": [
    "### 11\n",
    "\"\"\"\n",
    "What is the purpose of the __init__ method in Python classes?\n",
    "\n",
    "It is used to create new instance of the class\n",
    "\n",
    "The __init__ method is the initializer(constructor) in Python. It is called when a new instance of the\n",
    "class is created. Its primary purpose is to initialize the instance attributes when an object is\n",
    "instantiated.\n",
    "\"\"\"\n"
   ]
  },
  {
   "cell_type": "code",
   "execution_count": 62,
   "metadata": {},
   "outputs": [
    {
     "name": "stdout",
     "output_type": "stream",
     "text": [
      "9\n",
      "12\n"
     ]
    }
   ],
   "source": [
    "### 12\n",
    "\n",
    "def func(a, b=2, c=3):\n",
    "    return a + b + c\n",
    "\n",
    "print(func(1, 5))\n",
    "print(func(1, 5, 6))"
   ]
  },
  {
   "cell_type": "code",
   "execution_count": 63,
   "metadata": {},
   "outputs": [
    {
     "data": {
      "text/plain": [
       "'\\nWhat is the purpose of the `self` parameter in Python class method?\\n\\nIt refers to the instance of the class\\n'"
      ]
     },
     "execution_count": 63,
     "metadata": {},
     "output_type": "execute_result"
    }
   ],
   "source": [
    "### 13\n",
    "\n",
    "\"\"\"\n",
    "What is the purpose of the `self` parameter in Python class method?\n",
    "\n",
    "It refers to the instance of the class\n",
    "\"\"\""
   ]
  },
  {
   "cell_type": "code",
   "execution_count": 64,
   "metadata": {},
   "outputs": [
    {
     "name": "stdout",
     "output_type": "stream",
     "text": [
      "Hello, my name is Alice and I am 30 years old.\n"
     ]
    }
   ],
   "source": [
    "class Person:\n",
    "    def __init__(self, name, age):\n",
    "        self.name = name\n",
    "        self.age = age\n",
    "        \n",
    "    def greet(self):\n",
    "        print(f\"Hello, my name is {self.name} and I am {self.age} years old.\")\n",
    "        \n",
    "person1 = Person(\"Alice\", 30)\n",
    "person1.greet()  # self refers to person1 here"
   ]
  },
  {
   "cell_type": "code",
   "execution_count": 66,
   "metadata": {},
   "outputs": [
    {
     "name": "stdout",
     "output_type": "stream",
     "text": [
      "15\n",
      "6\n"
     ]
    }
   ],
   "source": [
    "## 14\n",
    "\n",
    "def foo(x, y=5):\n",
    "    return x * y\n",
    "\n",
    "print(foo(3))\n",
    "print(foo(3, 2))"
   ]
  },
  {
   "cell_type": "code",
   "execution_count": 67,
   "metadata": {},
   "outputs": [
    {
     "name": "stdout",
     "output_type": "stream",
     "text": [
      "3\n",
      "7\n"
     ]
    }
   ],
   "source": [
    "## 15\n",
    "\n",
    "x = 7\n",
    "def func():\n",
    "    x = 3\n",
    "    return x\n",
    "\n",
    "print(func())\n",
    "print(x)\n"
   ]
  },
  {
   "cell_type": "code",
   "execution_count": 68,
   "metadata": {},
   "outputs": [
    {
     "name": "stdout",
     "output_type": "stream",
     "text": [
      "[1]\n",
      "[3, 4, 2]\n",
      "[1, 3]\n"
     ]
    }
   ],
   "source": [
    "### 16\n",
    "\n",
    "def test(x, y=[]):\n",
    "    y.append(x)\n",
    "    return y\n",
    "\n",
    "print(test(1))\n",
    "print(test(2, [3, 4]))\n",
    "print(test(3))\n"
   ]
  },
  {
   "cell_type": "code",
   "execution_count": 69,
   "metadata": {},
   "outputs": [
    {
     "name": "stdout",
     "output_type": "stream",
     "text": [
      "13\n",
      "6\n"
     ]
    }
   ],
   "source": [
    "### 17\n",
    "\n",
    "def my_func(a, b, c=10):\n",
    "    return a + b + c\n",
    "\n",
    "print(my_func(1, 2))\n",
    "print(my_func(1, 2, 3))"
   ]
  },
  {
   "cell_type": "code",
   "execution_count": 70,
   "metadata": {},
   "outputs": [
    {
     "name": "stdout",
     "output_type": "stream",
     "text": [
      "10\n",
      "10\n"
     ]
    }
   ],
   "source": [
    "### 18\n",
    "\n",
    "x = 5\n",
    "def test():\n",
    "    global x\n",
    "    x = 10\n",
    "    return x\n",
    "\n",
    "print(test())\n",
    "print(x)"
   ]
  },
  {
   "cell_type": "code",
   "execution_count": 71,
   "metadata": {},
   "outputs": [
    {
     "name": "stdout",
     "output_type": "stream",
     "text": [
      "5\n",
      "7\n"
     ]
    }
   ],
   "source": [
    "### 19\n",
    "\n",
    "def add(x, y=3):\n",
    "    return x + y\n",
    "\n",
    "print(add(2))\n",
    "print(add(2, 5))"
   ]
  },
  {
   "cell_type": "code",
   "execution_count": 72,
   "metadata": {},
   "outputs": [
    {
     "name": "stdout",
     "output_type": "stream",
     "text": [
      "8\n",
      "10\n"
     ]
    }
   ],
   "source": [
    "### 20\n",
    "\n",
    "def foo(x, y=2, z=3):\n",
    "    return x + y + z\n",
    "\n",
    "print(foo(1, 4))\n",
    "print(foo(1, 4, 5))"
   ]
  },
  {
   "cell_type": "code",
   "execution_count": 74,
   "metadata": {},
   "outputs": [
    {
     "name": "stdout",
     "output_type": "stream",
     "text": [
      "6\n",
      "6\n",
      "13\n"
     ]
    }
   ],
   "source": [
    "### 21\n",
    "\n",
    "def test_func(a, b, c=10):\n",
    "    a = a + 1\n",
    "    b = b * 2\n",
    "    c = c + 3\n",
    "    return a, b, c\n",
    "\n",
    "x, y, z = test_func(5, 3)\n",
    "\n",
    "print(x)\n",
    "print(y)\n",
    "print(z)\n"
   ]
  },
  {
   "cell_type": "code",
   "execution_count": 75,
   "metadata": {},
   "outputs": [
    {
     "name": "stdout",
     "output_type": "stream",
     "text": [
      "[100, 2, 3, 200]\n",
      "[300, 400]\n"
     ]
    }
   ],
   "source": [
    "### 22\n",
    "\n",
    "def modify_list(lst):\n",
    "    lst[0] = 100\n",
    "    lst.append(200)\n",
    "    lst = [300, 400]\n",
    "    return lst\n",
    "\n",
    "my_list = [1, 2, 3]\n",
    "\n",
    "result = modify_list(my_list)\n",
    "\n",
    "print(my_list)\n",
    "print(result)"
   ]
  },
  {
   "cell_type": "code",
   "execution_count": 76,
   "metadata": {},
   "outputs": [
    {
     "name": "stdout",
     "output_type": "stream",
     "text": [
      "2 5 10\n"
     ]
    }
   ],
   "source": [
    "### 23\n",
    "\n",
    "def func(a, b=3, c=4):\n",
    "    return a + b + c\n",
    "\n",
    "x = 2\n",
    "y = 5\n",
    "z = func(x, c=y)\n",
    "print(x, y, z)\n"
   ]
  },
  {
   "cell_type": "code",
   "execution_count": 77,
   "metadata": {},
   "outputs": [
    {
     "name": "stdout",
     "output_type": "stream",
     "text": [
      "    Name  Age   Salary\n",
      "1    Bob   27  60500.0\n",
      "3  David   32  66000.0\n",
      "4    Eva   29  57200.0\n"
     ]
    }
   ],
   "source": [
    "### 24\n",
    "\n",
    "import pandas as pd\n",
    "\n",
    "data = {\n",
    "    'Name': ['Alice', 'Bob', 'Charlie', 'David', 'Eva'],\n",
    "    'Age': [24, 27, 22, 32, 29],\n",
    "    'Salary': [50000, 55000, 48000, 60000, 52000]\n",
    "}\n",
    "\n",
    "df = pd.DataFrame(data)\n",
    "\n",
    "# Now, let's manipulate this DataFrame\n",
    "\n",
    "df['Salary'] = df['Salary'] * 1.1  # Applying a 10% salary increase\n",
    "\n",
    "# Task: Select the rows where Age is greater than 25 and Salary is greater than 55000\n",
    "result = df[(df['Age'] > 25) & (df['Salary'] > 55000)]\n",
    "\n",
    "print(result)"
   ]
  },
  {
   "cell_type": "code",
   "execution_count": 78,
   "metadata": {},
   "outputs": [
    {
     "data": {
      "text/html": [
       "<div>\n",
       "<style scoped>\n",
       "    .dataframe tbody tr th:only-of-type {\n",
       "        vertical-align: middle;\n",
       "    }\n",
       "\n",
       "    .dataframe tbody tr th {\n",
       "        vertical-align: top;\n",
       "    }\n",
       "\n",
       "    .dataframe thead th {\n",
       "        text-align: right;\n",
       "    }\n",
       "</style>\n",
       "<table border=\"1\" class=\"dataframe\">\n",
       "  <thead>\n",
       "    <tr style=\"text-align: right;\">\n",
       "      <th></th>\n",
       "      <th>Name</th>\n",
       "      <th>Age</th>\n",
       "      <th>Salary</th>\n",
       "    </tr>\n",
       "  </thead>\n",
       "  <tbody>\n",
       "    <tr>\n",
       "      <th>0</th>\n",
       "      <td>Alice</td>\n",
       "      <td>24</td>\n",
       "      <td>55000.0</td>\n",
       "    </tr>\n",
       "    <tr>\n",
       "      <th>1</th>\n",
       "      <td>Bob</td>\n",
       "      <td>27</td>\n",
       "      <td>60500.0</td>\n",
       "    </tr>\n",
       "    <tr>\n",
       "      <th>2</th>\n",
       "      <td>Charlie</td>\n",
       "      <td>22</td>\n",
       "      <td>52800.0</td>\n",
       "    </tr>\n",
       "    <tr>\n",
       "      <th>3</th>\n",
       "      <td>David</td>\n",
       "      <td>32</td>\n",
       "      <td>66000.0</td>\n",
       "    </tr>\n",
       "    <tr>\n",
       "      <th>4</th>\n",
       "      <td>Eva</td>\n",
       "      <td>29</td>\n",
       "      <td>57200.0</td>\n",
       "    </tr>\n",
       "  </tbody>\n",
       "</table>\n",
       "</div>"
      ],
      "text/plain": [
       "      Name  Age   Salary\n",
       "0    Alice   24  55000.0\n",
       "1      Bob   27  60500.0\n",
       "2  Charlie   22  52800.0\n",
       "3    David   32  66000.0\n",
       "4      Eva   29  57200.0"
      ]
     },
     "execution_count": 78,
     "metadata": {},
     "output_type": "execute_result"
    }
   ],
   "source": [
    "df"
   ]
  },
  {
   "cell_type": "code",
   "execution_count": 81,
   "metadata": {},
   "outputs": [
    {
     "name": "stdout",
     "output_type": "stream",
     "text": [
      "   ID Product  Sales  Profit  Sales_Profit_Ratio\n",
      "4   5       E    300      70            4.285714\n",
      "3   4       D    250      60            4.166667\n",
      "1   2       B    200      50            4.000000\n",
      "2   3       C    150      40            3.750000\n",
      "0   1       A    100      30            3.333333\n"
     ]
    }
   ],
   "source": [
    "### 25\n",
    "\n",
    "import pandas as pd\n",
    "\n",
    "data = {\n",
    "    'ID': [1, 2, 3, 4, 5],\n",
    "    'Product': ['A', 'B', 'C', 'D', 'E'],\n",
    "    'Sales': [100, 200, 150, 250, 300],\n",
    "    'Profit': [30, 50, 40, 60, 70]\n",
    "}\n",
    "\n",
    "df = pd.DataFrame(data)\n",
    "\n",
    "# Task: Create a new column 'Sales_Profit_Ratio' which is the ratio of Sales to Profit (Sales / Profit).\n",
    "# Also, sort the DataFrame by 'Sales_Profit_Ratio' in descending order.\n",
    "\n",
    "df['Sales_Profit_Ratio'] = df['Sales'] / df['Profit']\n",
    "\n",
    "result = df.sort_values(by='Sales_Profit_Ratio', ascending=False)\n",
    "\n",
    "print(result)\n"
   ]
  },
  {
   "cell_type": "code",
   "execution_count": 82,
   "metadata": {},
   "outputs": [
    {
     "data": {
      "text/html": [
       "<div>\n",
       "<style scoped>\n",
       "    .dataframe tbody tr th:only-of-type {\n",
       "        vertical-align: middle;\n",
       "    }\n",
       "\n",
       "    .dataframe tbody tr th {\n",
       "        vertical-align: top;\n",
       "    }\n",
       "\n",
       "    .dataframe thead th {\n",
       "        text-align: right;\n",
       "    }\n",
       "</style>\n",
       "<table border=\"1\" class=\"dataframe\">\n",
       "  <thead>\n",
       "    <tr style=\"text-align: right;\">\n",
       "      <th></th>\n",
       "      <th>ID</th>\n",
       "      <th>Product</th>\n",
       "      <th>Sales</th>\n",
       "      <th>Profit</th>\n",
       "      <th>Sales_Profit_Ratio</th>\n",
       "    </tr>\n",
       "  </thead>\n",
       "  <tbody>\n",
       "    <tr>\n",
       "      <th>0</th>\n",
       "      <td>1</td>\n",
       "      <td>A</td>\n",
       "      <td>100</td>\n",
       "      <td>30</td>\n",
       "      <td>3.333333</td>\n",
       "    </tr>\n",
       "    <tr>\n",
       "      <th>1</th>\n",
       "      <td>2</td>\n",
       "      <td>B</td>\n",
       "      <td>200</td>\n",
       "      <td>50</td>\n",
       "      <td>4.000000</td>\n",
       "    </tr>\n",
       "    <tr>\n",
       "      <th>2</th>\n",
       "      <td>3</td>\n",
       "      <td>C</td>\n",
       "      <td>150</td>\n",
       "      <td>40</td>\n",
       "      <td>3.750000</td>\n",
       "    </tr>\n",
       "    <tr>\n",
       "      <th>3</th>\n",
       "      <td>4</td>\n",
       "      <td>D</td>\n",
       "      <td>250</td>\n",
       "      <td>60</td>\n",
       "      <td>4.166667</td>\n",
       "    </tr>\n",
       "    <tr>\n",
       "      <th>4</th>\n",
       "      <td>5</td>\n",
       "      <td>E</td>\n",
       "      <td>300</td>\n",
       "      <td>70</td>\n",
       "      <td>4.285714</td>\n",
       "    </tr>\n",
       "  </tbody>\n",
       "</table>\n",
       "</div>"
      ],
      "text/plain": [
       "   ID Product  Sales  Profit  Sales_Profit_Ratio\n",
       "0   1       A    100      30            3.333333\n",
       "1   2       B    200      50            4.000000\n",
       "2   3       C    150      40            3.750000\n",
       "3   4       D    250      60            4.166667\n",
       "4   5       E    300      70            4.285714"
      ]
     },
     "execution_count": 82,
     "metadata": {},
     "output_type": "execute_result"
    }
   ],
   "source": [
    "df"
   ]
  },
  {
   "cell_type": "code",
   "execution_count": 102,
   "metadata": {},
   "outputs": [
    {
     "name": "stdout",
     "output_type": "stream",
     "text": [
      "Department\n",
      "Engineering    77500.0\n",
      "Marketing      60000.0\n",
      "HR             52500.0\n",
      "Name: Salary, dtype: float64\n"
     ]
    }
   ],
   "source": [
    "### 26\n",
    "\n",
    "import pandas as pd\n",
    "\n",
    "data = {\n",
    "    \"Name\": [\"Pavan\", \"Manoj\", \"Balaji\", \"Appu\", \"Malli\"],\n",
    "    \"Age\": [28,22,34,42,25],\n",
    "    \"Department\": [\"HR\", \"Engineering\", \"Marketing\", \"Engineering\", \"HR\"],\n",
    "    \"Salary\": [50000, 75000, 60000, 80000, 55000]\n",
    "}\n",
    "\n",
    "df = pd.DataFrame(data)\n",
    "\n",
    "# Task:\n",
    "# 1. Group by 'department' and calculate the average 'Salary' per department\n",
    "# 2. Sort the departments by 'Average Salary' in descending order.\n",
    "average_salary_per_dept = df.groupby(\"Department\")['Salary'].mean()\n",
    "sorted_departments = average_salary_per_dept.sort_values(ascending=False)\n",
    "\n",
    "print(sorted_departments)"
   ]
  },
  {
   "cell_type": "code",
   "execution_count": null,
   "metadata": {},
   "outputs": [],
   "source": []
  }
 ],
 "metadata": {
  "kernelspec": {
   "display_name": "base",
   "language": "python",
   "name": "python3"
  },
  "language_info": {
   "codemirror_mode": {
    "name": "ipython",
    "version": 3
   },
   "file_extension": ".py",
   "mimetype": "text/x-python",
   "name": "python",
   "nbconvert_exporter": "python",
   "pygments_lexer": "ipython3",
   "version": "3.12.3"
  }
 },
 "nbformat": 4,
 "nbformat_minor": 2
}
